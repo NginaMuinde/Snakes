{
 "cells": [
  {
   "cell_type": "code",
   "execution_count": 25,
   "id": "0a984444-902c-489e-a397-d1b000ae0075",
   "metadata": {
    "tags": []
   },
   "outputs": [
    {
     "name": "stdin",
     "output_type": "stream",
     "text": [
      "Please enter an intial stock level: 500\n",
      "\n",
      "Please enter the number of months to plan: 5\n",
      "Please enter the planned sales quantity for month 1:  300\n",
      "Please enter the planned sales quantity for month 2:  250\n",
      "Please enter the planned sales quantity for month 3:  200\n",
      "Please enter the planned sales quantity for month 4:  400\n",
      "Please enter the planned sales quantity for month 5:  100\n"
     ]
    },
    {
     "name": "stdout",
     "output_type": "stream",
     "text": [
      "\n",
      "Production quantity month 1: 0\n",
      "\n",
      "Production quantity month 2: 50\n",
      "\n",
      "Production quantity month 3: 200\n",
      "\n",
      "Production quantity month 4: 400\n",
      "\n",
      "Production quantity month 5: 100\n"
     ]
    }
   ],
   "source": [
    "#User inputs as per relevance the production quantities for each month\n",
    "#as well as the number of months to plan for\n",
    "\n",
    "initial_stock = int(input(\"Please enter an intial stock level:\"))\n",
    "months_plan = int(input(\"\\nPlease enter the number of months to plan:\"))\n",
    "                  \n",
    "planned_sales_quantity = []\n",
    "production_quantity = []\n",
    "for i in range (months_plan):\n",
    "                  \n",
    "    sales = int(input(f\"Please enter the planned sales quantity for month {i+1}: \"))\n",
    "    planned_sales_quantity.append(sales)\n",
    "                  \n",
    "    \n",
    "#calculate the sales for each month out of the specified duration \n",
    "#in order to determine the quantities of production required for each month\n",
    "\n",
    "for i in range(len(planned_sales_quantity)):\n",
    "    sales_quantity = int(planned_sales_quantity [i])\n",
    "\n",
    "    if sales_quantity <= initial_stock:\n",
    "        production_quantity = 0\n",
    "    else:\n",
    "        production_quantity = sales_quantity - initial_stock \n",
    "\n",
    "    production_quantities.append(production_quantity)\n",
    "                  \n",
    "#Display the calculated production quantity required for each month\n",
    "\n",
    "    initial_stock  = max(0, initial_stock  - sales_quantity) \n",
    "    \n",
    "    print(f\"\\nProduction quantity month {i + 1}: {production_quantity}\")\n",
    "   "
   ]
  }
 ],
 "metadata": {
  "kernelspec": {
   "display_name": "Python 3 (ipykernel)",
   "language": "python",
   "name": "python3"
  },
  "language_info": {
   "codemirror_mode": {
    "name": "ipython",
    "version": 3
   },
   "file_extension": ".py",
   "mimetype": "text/x-python",
   "name": "python",
   "nbconvert_exporter": "python",
   "pygments_lexer": "ipython3",
   "version": "3.11.4"
  }
 },
 "nbformat": 4,
 "nbformat_minor": 5
}
